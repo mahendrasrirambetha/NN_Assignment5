{
  "metadata": {
    "kernelspec": {
      "name": "python",
      "display_name": "Python (Pyodide)",
      "language": "python"
    },
    "language_info": {
      "codemirror_mode": {
        "name": "python",
        "version": 3
      },
      "file_extension": ".py",
      "mimetype": "text/x-python",
      "name": "python",
      "nbconvert_exporter": "python",
      "pygments_lexer": "ipython3",
      "version": "3.8"
    }
  },
  "nbformat_minor": 4,
  "nbformat": 4,
  "cells": [
    {
      "cell_type": "code",
      "source": "#importing set of libraries\nimport pandas as pd\nfrom sklearn.model_selection import train_test_split\nfrom sklearn.naive_bayes import GaussianNB\nfrom sklearn.metrics import classification_report, accuracy_score\nimport warnings\nwarnings.filterwarnings(\"ignore\")\nfrom sklearn import metrics",
      "metadata": {
        "trusted": true
      },
      "outputs": [],
      "execution_count": 1
    },
    {
      "cell_type": "code",
      "source": "#importing the given dataset glass.csv\ndst_Data = pd.read_csv(\"glass.csv\")\ndst_Data.info()",
      "metadata": {
        "trusted": true
      },
      "outputs": [
        {
          "name": "stdout",
          "text": "<class 'pandas.core.frame.DataFrame'>\nRangeIndex: 214 entries, 0 to 213\nData columns (total 10 columns):\n #   Column  Non-Null Count  Dtype  \n---  ------  --------------  -----  \n 0   RI      214 non-null    float64\n 1   Na      214 non-null    float64\n 2   Mg      214 non-null    float64\n 3   Al      214 non-null    float64\n 4   Si      214 non-null    float64\n 5   K       214 non-null    float64\n 6   Ca      214 non-null    float64\n 7   Ba      214 non-null    float64\n 8   Fe      214 non-null    float64\n 9   Type    214 non-null    int64  \ndtypes: float64(9), int64(1)\nmemory usage: 16.8 KB\n",
          "output_type": "stream"
        }
      ],
      "execution_count": 3
    },
    {
      "cell_type": "code",
      "source": "#splitting the dataset which is excluding last columns\nX = dst_Data.iloc[:, :-1]\ny = dst_Data.iloc[:, -1]\n#splitting the dataset into train and test datasets\nX_train, X_test, y_train, y_test = train_test_split(X, y, test_size=0.2, random_state=0)\n#creating a Gaussian Naive Bayes model\ngn = GaussianNB()\n#fitting train data\ngn.fit(X_train, y_train)\n# predicting the test dataset\ny_pred = gn.predict(X_test)\n# evaluating the model on the test dataset\nprint(\"Accuracy: \", accuracy_score(y_test, y_pred)*100)\nprint(\"Classification Report: \\n\", classification_report(y_test, y_pred))",
      "metadata": {
        "trusted": true
      },
      "outputs": [
        {
          "name": "stdout",
          "text": "Accuracy:  37.2093023255814\nClassification Report: \n               precision    recall  f1-score   support\n\n           1       0.19      0.44      0.27         9\n           2       0.33      0.16      0.21        19\n           3       0.33      0.20      0.25         5\n           5       0.00      0.00      0.00         2\n           6       0.67      1.00      0.80         2\n           7       1.00      1.00      1.00         6\n\n    accuracy                           0.37        43\n   macro avg       0.42      0.47      0.42        43\nweighted avg       0.40      0.37      0.36        43\n\n",
          "output_type": "stream"
        }
      ],
      "execution_count": 4
    },
    {
      "cell_type": "code",
      "source": "#importing set of libraries\nimport pandas as pd\nfrom sklearn.model_selection import train_test_split\nfrom sklearn.svm import SVC\nfrom sklearn.metrics import classification_report, accuracy_score",
      "metadata": {
        "trusted": true
      },
      "outputs": [],
      "execution_count": 5
    },
    {
      "cell_type": "code",
      "source": "#loading the glass dataset\ndst_Data = pd.read_csv(\"glass.csv\")\ndst_Data.info()",
      "metadata": {
        "trusted": true
      },
      "outputs": [
        {
          "name": "stdout",
          "text": "<class 'pandas.core.frame.DataFrame'>\nRangeIndex: 214 entries, 0 to 213\nData columns (total 10 columns):\n #   Column  Non-Null Count  Dtype  \n---  ------  --------------  -----  \n 0   RI      214 non-null    float64\n 1   Na      214 non-null    float64\n 2   Mg      214 non-null    float64\n 3   Al      214 non-null    float64\n 4   Si      214 non-null    float64\n 5   K       214 non-null    float64\n 6   Ca      214 non-null    float64\n 7   Ba      214 non-null    float64\n 8   Fe      214 non-null    float64\n 9   Type    214 non-null    int64  \ndtypes: float64(9), int64(1)\nmemory usage: 16.8 KB\n",
          "output_type": "stream"
        }
      ],
      "execution_count": 6
    },
    {
      "cell_type": "code",
      "source": "#splitting the dataset into training and testing datasets\nX_train, X_test, y_train, y_test = train_test_split(X, y, test_size=0.2, random_state=0)\n#creating a linear SVM model\nsvm = SVC(kernel='linear')\n#fitting the training dataset\nsvm.fit(X_train, y_train)\n#predicting the target values using the test dataset\ny_pred = svm.predict(X_test)\n#evaluating the model on the test dataset\nprint(\"Accuracy: \", accuracy_score(y_test, y_pred)*100)\nprint(\"Classification Report: \\n\", classification_report(y_test, y_pred))",
      "metadata": {
        "trusted": true
      },
      "outputs": [
        {
          "name": "stdout",
          "text": "Accuracy:  51.162790697674424\nClassification Report: \n               precision    recall  f1-score   support\n\n           1       0.36      0.89      0.52         9\n           2       0.58      0.37      0.45        19\n           3       0.00      0.00      0.00         5\n           5       0.50      0.50      0.50         2\n           6       0.00      0.00      0.00         2\n           7       0.86      1.00      0.92         6\n\n    accuracy                           0.51        43\n   macro avg       0.38      0.46      0.40        43\nweighted avg       0.48      0.51      0.46        43\n\n",
          "output_type": "stream"
        }
      ],
      "execution_count": 7
    },
    {
      "cell_type": "code",
      "source": "",
      "metadata": {
        "trusted": true
      },
      "outputs": [],
      "execution_count": null
    }
  ]
}